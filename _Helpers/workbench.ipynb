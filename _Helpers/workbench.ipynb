{
 "cells": [
  {
   "cell_type": "code",
   "execution_count": 69,
   "metadata": {},
   "outputs": [
    {
     "data": {
      "text/plain": [
       "10-element Vector{String}:\n",
       " \"199\"\n",
       " \"200\"\n",
       " \"208\"\n",
       " \"210\"\n",
       " \"200\"\n",
       " \"207\"\n",
       " \"240\"\n",
       " \"269\"\n",
       " \"260\"\n",
       " \"263\""
      ]
     },
     "metadata": {},
     "output_type": "display_data"
    }
   ],
   "source": [
    "input = open(\"Day01/input.txt\") do file\n",
    "    readlines(file)\n",
    "end"
   ]
  },
  {
   "cell_type": "code",
   "execution_count": 70,
   "metadata": {},
   "outputs": [
    {
     "data": {
      "text/plain": [
       "10-element Vector{Int64}:\n",
       " 199\n",
       " 200\n",
       " 208\n",
       " 210\n",
       " 200\n",
       " 207\n",
       " 240\n",
       " 269\n",
       " 260\n",
       " 263"
      ]
     },
     "metadata": {},
     "output_type": "display_data"
    }
   ],
   "source": [
    "input = parse.(Int, input)"
   ]
  },
  {
   "cell_type": "code",
   "execution_count": 73,
   "metadata": {},
   "outputs": [
    {
     "data": {
      "text/plain": [
       "FindMaxIncreasing (generic function with 1 method)"
      ]
     },
     "metadata": {},
     "output_type": "display_data"
    }
   ],
   "source": [
    "function FindMaxIncreasing(input)\n",
    "    prev = Inf\n",
    "    counter = 0\n",
    "\n",
    "    inputLength = size(input)[1] - 3\n",
    "\n",
    "    for i in 0:inputLength\n",
    "        window = sum(\n",
    "            [input[i+1], \n",
    "            input[i+2], \n",
    "            input[i+3]]\n",
    "            )\n",
    "\n",
    "        if window > prev\n",
    "            counter = counter + 1\n",
    "            #println(\" - Increasing\")\n",
    "        else\n",
    "            #println(\" - Decreasing\")\n",
    "        end\n",
    "\n",
    "        prev = window\n",
    "    end\n",
    "\n",
    "    return counter\n",
    "end"
   ]
  },
  {
   "cell_type": "code",
   "execution_count": 74,
   "metadata": {},
   "outputs": [
    {
     "name": "stdout",
     "output_type": "stream",
     "text": [
      "5"
     ]
    }
   ],
   "source": [
    "print(FindMaxIncreasing(input))"
   ]
  },
  {
   "cell_type": "code",
   "execution_count": 75,
   "metadata": {},
   "outputs": [],
   "source": []
  }
 ],
 "metadata": {
  "kernelspec": {
   "display_name": "Julia 1.6.4",
   "language": "julia",
   "name": "julia-1.6"
  },
  "language_info": {
   "file_extension": ".jl",
   "mimetype": "application/julia",
   "name": "julia",
   "version": "1.6.4"
  },
  "orig_nbformat": 4
 },
 "nbformat": 4,
 "nbformat_minor": 2
}
