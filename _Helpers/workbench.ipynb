{
 "cells": [
  {
   "cell_type": "code",
   "execution_count": 574,
   "metadata": {},
   "outputs": [
    {
     "data": {
      "text/plain": [
       "1000-element Vector{String}:\n",
       " \"110011101111\"\n",
       " \"011110010111\"\n",
       " \"101010111001\"\n",
       " \"110011100110\"\n",
       " \"110010000101\"\n",
       " \"000111001111\"\n",
       " \"001111110011\"\n",
       " \"100000111010\"\n",
       " \"101010000110\"\n",
       " \"001000100011\"\n",
       " ⋮\n",
       " \"000101011000\"\n",
       " \"000111011000\"\n",
       " \"010000010101\"\n",
       " \"101010110101\"\n",
       " \"010101000000\"\n",
       " \"100010110101\"\n",
       " \"111110010001\"\n",
       " \"110010100001\"\n",
       " \"000111010110\""
      ]
     },
     "metadata": {},
     "output_type": "display_data"
    }
   ],
   "source": [
    "input = open(\"C:\\\\Users\\\\JHE_B\\\\Documents\\\\GitHub\\\\AoC_2021\\\\Day03\\\\input.txt\") do file\n",
    "    readlines(file)\n",
    "end"
   ]
  },
  {
   "cell_type": "code",
   "execution_count": 575,
   "metadata": {},
   "outputs": [
    {
     "data": {
      "text/plain": [
       "1000-element Vector{Vector{Int64}}:\n",
       " [1, 1, 0, 0, 1, 1, 1, 0, 1, 1, 1, 1]\n",
       " [0, 1, 1, 1, 1, 0, 0, 1, 0, 1, 1, 1]\n",
       " [1, 0, 1, 0, 1, 0, 1, 1, 1, 0, 0, 1]\n",
       " [1, 1, 0, 0, 1, 1, 1, 0, 0, 1, 1, 0]\n",
       " [1, 1, 0, 0, 1, 0, 0, 0, 0, 1, 0, 1]\n",
       " [0, 0, 0, 1, 1, 1, 0, 0, 1, 1, 1, 1]\n",
       " [0, 0, 1, 1, 1, 1, 1, 1, 0, 0, 1, 1]\n",
       " [1, 0, 0, 0, 0, 0, 1, 1, 1, 0, 1, 0]\n",
       " [1, 0, 1, 0, 1, 0, 0, 0, 0, 1, 1, 0]\n",
       " [0, 0, 1, 0, 0, 0, 1, 0, 0, 0, 1, 1]\n",
       " ⋮\n",
       " [0, 0, 0, 1, 0, 1, 0, 1, 1, 0, 0, 0]\n",
       " [0, 0, 0, 1, 1, 1, 0, 1, 1, 0, 0, 0]\n",
       " [0, 1, 0, 0, 0, 0, 0, 1, 0, 1, 0, 1]\n",
       " [1, 0, 1, 0, 1, 0, 1, 1, 0, 1, 0, 1]\n",
       " [0, 1, 0, 1, 0, 1, 0, 0, 0, 0, 0, 0]\n",
       " [1, 0, 0, 0, 1, 0, 1, 1, 0, 1, 0, 1]\n",
       " [1, 1, 1, 1, 1, 0, 0, 1, 0, 0, 0, 1]\n",
       " [1, 1, 0, 0, 1, 0, 1, 0, 0, 0, 0, 1]\n",
       " [0, 0, 0, 1, 1, 1, 0, 1, 0, 1, 1, 0]"
      ]
     },
     "metadata": {},
     "output_type": "display_data"
    }
   ],
   "source": [
    "report = [split(line, \"\") for line in input]\n",
    "report = [parse.(Int, row) for row in report]"
   ]
  },
  {
   "cell_type": "code",
   "execution_count": 576,
   "metadata": {},
   "outputs": [],
   "source": [
    "ogr = report\n",
    "\n",
    "#For each column\n",
    "for col in 1:size(ogr[1])[1]\n",
    "    count = Dict(1 => 0, 0 => 0)\n",
    "    \n",
    "    #For each row, count occurances\n",
    "    for row in ogr\n",
    "        count[row[col]] += 1\n",
    "    end\n",
    "\n",
    "    most = 1\n",
    "    if count[0] > count[1]\n",
    "        most = 0\n",
    "    end\n",
    "\n",
    "    ogr = filter(x -> x[col] == most, ogr)\n",
    "\n",
    "    if size(ogr)[1] <= 1\n",
    "        break\n",
    "    end\n",
    "end"
   ]
  },
  {
   "cell_type": "code",
   "execution_count": 577,
   "metadata": {},
   "outputs": [],
   "source": [
    "co2 = report\n",
    "\n",
    "#For each column\n",
    "for col in 1:size(co2[1])[1]\n",
    "    count = Dict(1 => 0, 0 => 0)\n",
    "    \n",
    "    #For each row, count occurances\n",
    "    for row in co2\n",
    "        count[row[col]] += 1\n",
    "    end\n",
    "\n",
    "    most = 0\n",
    "    if count[0] > count[1]\n",
    "        most = 1\n",
    "    end\n",
    "\n",
    "    co2 = filter(x -> x[col] == most, co2)\n",
    "\n",
    "    if size(co2)[1] <= 1\n",
    "        break\n",
    "    end\n",
    "end"
   ]
  },
  {
   "cell_type": "code",
   "execution_count": 578,
   "metadata": {},
   "outputs": [
    {
     "data": {
      "text/plain": [
       "1-element Vector{Vector{Int64}}:\n",
       " [1, 1, 1, 0, 1, 0, 0, 0, 0, 1, 0, 0]"
      ]
     },
     "metadata": {},
     "output_type": "display_data"
    }
   ],
   "source": [
    "co2"
   ]
  },
  {
   "cell_type": "code",
   "execution_count": 579,
   "metadata": {},
   "outputs": [
    {
     "data": {
      "text/plain": [
       "1599"
      ]
     },
     "metadata": {},
     "output_type": "display_data"
    }
   ],
   "source": [
    "_ogr = parse(Int, join(ogr[1]), base = 2) "
   ]
  },
  {
   "cell_type": "code",
   "execution_count": 580,
   "metadata": {},
   "outputs": [
    {
     "data": {
      "text/plain": [
       "3716"
      ]
     },
     "metadata": {},
     "output_type": "display_data"
    }
   ],
   "source": [
    "_co2 = parse(Int, join(co2[1]), base = 2)"
   ]
  },
  {
   "cell_type": "code",
   "execution_count": 581,
   "metadata": {},
   "outputs": [
    {
     "data": {
      "text/plain": [
       "5941884"
      ]
     },
     "metadata": {},
     "output_type": "display_data"
    }
   ],
   "source": [
    "_ogr * _co2"
   ]
  }
 ],
 "metadata": {
  "kernelspec": {
   "display_name": "Julia 1.6.4",
   "language": "julia",
   "name": "julia-1.6"
  },
  "language_info": {
   "file_extension": ".jl",
   "mimetype": "application/julia",
   "name": "julia",
   "version": "1.6.4"
  },
  "orig_nbformat": 4
 },
 "nbformat": 4,
 "nbformat_minor": 2
}
