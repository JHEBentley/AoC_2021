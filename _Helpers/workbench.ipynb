{
 "cells": [
  {
   "cell_type": "code",
   "execution_count": 80,
   "metadata": {},
   "outputs": [
    {
     "data": {
      "text/plain": [
       "2000-element Vector{Int64}:\n",
       "  141\n",
       "  152\n",
       "  164\n",
       "  163\n",
       "  164\n",
       "  179\n",
       "  210\n",
       "  209\n",
       "  208\n",
       "  236\n",
       "    ⋮\n",
       " 2648\n",
       " 2647\n",
       " 2648\n",
       " 2649\n",
       " 2654\n",
       " 2655\n",
       " 2660\n",
       " 2671\n",
       " 2682"
      ]
     },
     "metadata": {},
     "output_type": "display_data"
    }
   ],
   "source": [
    "input = open(\"C:\\\\Users\\\\JHE_B\\\\Documents\\\\GitHub\\\\AoC_2021\\\\Day01\\\\input.txt\") do file\n",
    "    readlines(file)\n",
    "end\n",
    "\n",
    "input = parse.(Int, input)"
   ]
  },
  {
   "cell_type": "code",
   "execution_count": 81,
   "metadata": {},
   "outputs": [
    {
     "data": {
      "text/plain": [
       "FindMaxIncreasing (generic function with 2 methods)"
      ]
     },
     "metadata": {},
     "output_type": "display_data"
    }
   ],
   "source": [
    "function FindMaxIncreasing(input, windowSize)\n",
    "    prev = Inf\n",
    "    counter = 0\n",
    "\n",
    "    inputSize = size(input)[1]\n",
    "\n",
    "    for i in windowSize:inputSize\n",
    "        \n",
    "        window = 0\n",
    "        for j in 0:windowSize - 1\n",
    "            window = window + input[i - j]\n",
    "        end\n",
    "\n",
    "        if window > prev\n",
    "            counter = counter + 1\n",
    "        end\n",
    "\n",
    "        prev = window\n",
    "    end\n",
    "    \n",
    "    return counter\n",
    "end"
   ]
  },
  {
   "cell_type": "code",
   "execution_count": 82,
   "metadata": {},
   "outputs": [
    {
     "data": {
      "text/plain": [
       "1158"
      ]
     },
     "metadata": {},
     "output_type": "display_data"
    }
   ],
   "source": [
    "FindMaxIncreasing(input, 3)"
   ]
  }
 ],
 "metadata": {
  "kernelspec": {
   "display_name": "Julia 1.6.4",
   "language": "julia",
   "name": "julia-1.6"
  },
  "language_info": {
   "file_extension": ".jl",
   "mimetype": "application/julia",
   "name": "julia",
   "version": "1.6.4"
  },
  "orig_nbformat": 4
 },
 "nbformat": 4,
 "nbformat_minor": 2
}
