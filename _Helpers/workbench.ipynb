{
 "cells": [
  {
   "cell_type": "code",
   "execution_count": 202,
   "metadata": {},
   "outputs": [
    {
     "data": {
      "text/plain": [
       "6-element Vector{String}:\n",
       " \"forward 5\"\n",
       " \"down 5\"\n",
       " \"forward 8\"\n",
       " \"up 3\"\n",
       " \"down 8\"\n",
       " \"forward 2\""
      ]
     },
     "metadata": {},
     "output_type": "display_data"
    }
   ],
   "source": [
    "input = open(\"Day02/input.txt\") do file\n",
    "    readlines(file)\n",
    "end"
   ]
  },
  {
   "cell_type": "code",
   "execution_count": 203,
   "metadata": {},
   "outputs": [
    {
     "data": {
      "text/plain": [
       "6-element Vector{Vector{SubString{String}}}:\n",
       " [\"forward\", \"5\"]\n",
       " [\"down\", \"5\"]\n",
       " [\"forward\", \"8\"]\n",
       " [\"up\", \"3\"]\n",
       " [\"down\", \"8\"]\n",
       " [\"forward\", \"2\"]"
      ]
     },
     "metadata": {},
     "output_type": "display_data"
    }
   ],
   "source": [
    "instructions = [split(instr, \" \") for instr in input]"
   ]
  },
  {
   "cell_type": "code",
   "execution_count": 204,
   "metadata": {},
   "outputs": [
    {
     "data": {
      "text/plain": [
       "Evaluate (generic function with 1 method)"
      ]
     },
     "metadata": {},
     "output_type": "display_data"
    }
   ],
   "source": [
    "function Move(axis, pos, dist)\n",
    "    pos[axis] = pos[axis] + dist\n",
    "    return pos\n",
    "end\n",
    "\n",
    "function Evaluate(instruction, pos)\n",
    "    dist = parse(Int, instruction[2])\n",
    "\n",
    "    if instruction[1] == \"forward\"\n",
    "        pos = Move(1, pos, dist)\n",
    "        pos = Move(2, pos, dist * pos[3])\n",
    "    else\n",
    "        if instruction[1] == \"up\"\n",
    "            dist = dist * -1\n",
    "        end\n",
    "\n",
    "        pos = Move(3, pos, dist)\n",
    "    end\n",
    "    return pos\n",
    "end"
   ]
  },
  {
   "cell_type": "code",
   "execution_count": 205,
   "metadata": {},
   "outputs": [],
   "source": [
    "#x, y, aim\n",
    "pos = [0,0,0]\n",
    "\n",
    "for i in instructions\n",
    "    pos = Evaluate(i, pos)\n",
    "end"
   ]
  },
  {
   "cell_type": "code",
   "execution_count": 211,
   "metadata": {},
   "outputs": [
    {
     "data": {
      "text/plain": [
       "900"
      ]
     },
     "metadata": {},
     "output_type": "display_data"
    }
   ],
   "source": [
    "prod(pos[1:2])"
   ]
  }
 ],
 "metadata": {
  "kernelspec": {
   "display_name": "Julia 1.6.4",
   "language": "julia",
   "name": "julia-1.6"
  },
  "language_info": {
   "file_extension": ".jl",
   "mimetype": "application/julia",
   "name": "julia",
   "version": "1.6.4"
  },
  "orig_nbformat": 4
 },
 "nbformat": 4,
 "nbformat_minor": 2
}
